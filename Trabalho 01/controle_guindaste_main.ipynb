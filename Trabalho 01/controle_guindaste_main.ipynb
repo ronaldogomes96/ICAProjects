{
 "cells": [
  {
   "cell_type": "code",
   "execution_count": 312,
   "id": "5fe48a82",
   "metadata": {},
   "outputs": [],
   "source": [
    "import numpy as np\n",
    "import skfuzzy as fuzz\n",
    "from skfuzzy import control as ctrl"
   ]
  },
  {
   "cell_type": "markdown",
   "id": "d56643d2",
   "metadata": {},
   "source": [
    "# Exemplo - Controle de um guindaste\n",
    "\n",
    "Neste primeiro exemplo, o objetivo é transladar uma carga utilizando um guindaste desde um navio até a seção de armazenamento. Para isso, foi usado um sistema fuzzy para quantificar a potencia necessária.\n",
    "\n",
    "Temos as seguintes variáveis:\n",
    "\n",
    "* Variáveis de entrada: *ângulo* e *distância*.\n",
    "* Variável de saída: *potência* (desenvolvida pelo motor).\n",
    "\n",
    "## Inputs\n",
    "\n",
    "Temos dois inputs de dados para este exemplo, que são:\n",
    "\n",
    "##### Distância\n",
    "\n",
    "Equivale a distância entre o navio e a seção de armazenamento. Esta distância é medida com valores entre 0 até 10. Para o conjunto fuzzy iremos usar três variáveis, com os seguintes valores:\n",
    "\n",
    "* **Perto** -> Entre 0 até 5\n",
    "* **Médio** -> Entre 2.5 até 7.5\n",
    "* **Longe** -> Entre 5 até 10\n",
    "\n",
    "Com isso, temos definido o conjunto fuzzy para a variável distância.\n",
    "\n",
    "##### Ângulo\n",
    "\n",
    "Equivale ao ângulo do guindaste em relação ao eixo do motor. Este ângulo é medido com valores entre -45 graus até 45 graus. Para o conjunto fuzzy iremos usar três variáveis, com os seguintes valores:\n",
    "\n",
    "* **Negativo** -> Entre -45 até 0\n",
    "* **Zero** -> Entre -20 até 20\n",
    "* **Positivo** -> Entre 0 até 45\n",
    "\n",
    "Com isso, temos definido o conjunto fuzzy para a variável ângulo.\n",
    "\n",
    "## Output\n",
    "\n",
    "Para o output desse sistema, temos uma variável linguística:\n",
    "\n",
    "##### Potência\n",
    "\n",
    "Equivale a potência desenvolvida pelo motor para movimentar o guindaste. Esta potência é medida em forma de porcentagem. Para este conjunto fuzzy iremos usar três variáveis, com os seguintes valores:\n",
    "\n",
    "* **Baixa** -> Entre 0% até 7%\n",
    "* **Média** -> Entre 8% até 16%\n",
    "* **Alta** -> Entre 16% até 25%\n",
    "\n",
    "Com isso, temos definido o conjunto fuzzy de output para a variável potência.\n",
    "\n",
    "Portanto, levando em consideração estas informações, a seguir serão criadas as variáveis correspondentes a cada conjunto fuzzy com seus respectivos valores."
   ]
  },
  {
   "cell_type": "code",
   "execution_count": 313,
   "id": "7efeccfd",
   "metadata": {},
   "outputs": [],
   "source": [
    "angle = ctrl.Antecedent(np.arange(-45, 46, 0.1), 'angle')\n",
    "distance = ctrl.Antecedent(np.arange(0, 11, 0.1), 'distance')\n",
    "power = ctrl.Consequent(np.arange(0, 0.25, 0.01), 'power')"
   ]
  },
  {
   "cell_type": "markdown",
   "id": "9694ee8c",
   "metadata": {},
   "source": [
    "### Definindo as funções de pertinência\n",
    "\n",
    "As funções de pertinência são fundamentais em sistemas fuzzy, pois são elas que estabelecem a relação entre as variáveis de entrada e a variável de saída. Existem diferentes tipos de funções de pertinência, como a triangular, a trapezoidal, a gaussiana, entre outras. Cada uma dessas funções possui suas próprias características e vantagens.\n",
    "\n",
    "Em nosso exemplo é usado a função de pertinência trapezoidal. Uma das suas principais vantagens é flexibilidade, pois permite que mais de um valor seja considerado como máximo para a variável em questão. Além disso, ela possibilita melhor incerteza quanto ao valor máximo de uma variável, o que é importante em sistemas que lidam com dados imprecisos ou incertos."
   ]
  },
  {
   "cell_type": "code",
   "execution_count": 314,
   "id": "013492b2",
   "metadata": {},
   "outputs": [],
   "source": [
    "angle['negative'] = fuzz.trapmf(angle.universe, [-45, -45, -20, 0])\n",
    "angle['zero'] = fuzz.trapmf(angle.universe, [-20, -8, 8, 20])\n",
    "angle['positive'] = fuzz.trapmf(angle.universe, [0, 20, 45, 45])\n",
    "\n",
    "distance['near'] = fuzz.trapmf(distance.universe, [0, 0, 2.5, 5])\n",
    "distance['medium'] = fuzz.trapmf(distance.universe, [2.5, 3.5, 6.5, 7.5])\n",
    "distance['away'] = fuzz.trapmf(distance.universe, [5, 7.5, 10, 10])\n",
    "\n",
    "power['low'] = fuzz.trapmf(power.universe, [0, 0, 0.05, 0.07])\n",
    "power['medium'] = fuzz.trapmf(power.universe, [0.08, 0.11, 0.13, 0.16])\n",
    "power['high'] = fuzz.trapmf(power.universe, [0.16, 0.20, 0.25, 0.25])"
   ]
  },
  {
   "cell_type": "markdown",
   "id": "12c5462c",
   "metadata": {},
   "source": [
    "### Definindo as regras e criando o sistema fuzzy\n",
    "\n",
    "As regras em um sistema fuzzy são responsáveis por definir a lógica que será utilizada para determinar a saída do sistema com base nas entradas fuzzy. Essas regras são formadas por um conjunto de proposições lógicas que relacionam as variáveis de entrada com a variável de saída, sendo do tipo **se-então**.\n",
    "\n",
    "No exemplo dado em aula, foram criadas três regras:\n",
    "\n",
    "1. **Se** distância = longe **ou** ângulo = negativo **Então** potência = baixa\n",
    "\n",
    "2. **Se** distância = média **Então** potencia = baixa\n",
    "\n",
    "3. **Se** distância = perto **ou** ângulo = positivo **Então** potência = alto\n",
    "\n",
    "**OBS**: As regras 1 e 3 foram mudadas para ficar de acordo com o exemplo da aula, onde houve um erro no slide."
   ]
  },
  {
   "cell_type": "code",
   "execution_count": 315,
   "id": "7ca01dbf",
   "metadata": {},
   "outputs": [],
   "source": [
    "rule_one = ctrl.Rule(distance['away'] | angle['negative'], power['low'])\n",
    "rule_two = ctrl.Rule(distance['medium'], power['medium'])\n",
    "rule_three = ctrl.Rule(distance['near'] | angle['positive'], power['high'])\n",
    "\n",
    "fuzzy_system = ctrl.ControlSystem([rule_one, rule_two, rule_three])\n",
    "control = ctrl.ControlSystemSimulation(fuzzy_system)"
   ]
  },
  {
   "cell_type": "markdown",
   "id": "cb1d5467",
   "metadata": {},
   "source": [
    "### Definindo novas entradas para testar o controlador\n",
    "\n",
    "A seguir é feito o teste do sistema fuzzy, com o exemplo indicado na aula. Este exemplo de teste consiste em atribuir valores para o ângulo e distância e então receber como resultado a potencia. Foi usado método de defuzzyficação do centroide, o mesmo simulado em aula. \n",
    "\n",
    "Os valores são:\n",
    "\n",
    "* ângulo: 30 graus\n",
    "* distância: 3"
   ]
  },
  {
   "cell_type": "code",
   "execution_count": 316,
   "id": "a89fb7be",
   "metadata": {},
   "outputs": [
    {
     "data": {
      "text/plain": [
       "17.765765765765764"
      ]
     },
     "execution_count": 316,
     "metadata": {},
     "output_type": "execute_result"
    }
   ],
   "source": [
    "control.input['angle'] = 30\n",
    "control.input['distance'] = 3\n",
    "\n",
    "control.compute()\n",
    "\n",
    "control.output['power'] * 100"
   ]
  },
  {
   "cell_type": "markdown",
   "id": "34c71b1c",
   "metadata": {},
   "source": [
    "## Discutindo resultado\n",
    "\n",
    "Para o exemplo anterior, o resultado obtido foi de 17.7%, o que difere em apenas 1% do resultado mostrado na aula. É importante destacar que a precisão dos resultados depende da definição das funções de pertinência e das regras utilizadas no sistema.\n",
    "\n",
    "No exemplo, o valor de 30 graus para o ângulo está dentro da faixa de ângulos considerados positivos, 10 graus acima do limite para ângulos médios. Além disso, a distância de 3 está no pico da função de pertinência para distância próxima e no início da função para a funcão de pertinência de distância média. Com isso, podemos concluir que a regra mais ativada é:\n",
    "\n",
    "**Se** distância = perto **ou** ângulo = positivo **Então** potência = alto\n",
    "\n",
    "O valor final de 17.7% corresponde ao início da faixa de potência considerada alta, o que é coerente com a regra ativada e com os valores de entrada fornecidos.\n",
    "\n",
    "Portanto, podemos concluir que o resultado obtido é consistente e lógico para o sistema fuzzy criado."
   ]
  },
  {
   "cell_type": "markdown",
   "id": "9d691f27",
   "metadata": {},
   "source": [
    "# Exemplo customizado\n",
    "\n",
    "Vamos agora testar um exemplo utilizando o sistema fuzzy criado.\n",
    "\n",
    "Esse exemplo é hipotéticos e foi desenvolvido com base em valores extrapolados, de acordo com as regras já mencionadas, para facilitar a compreensão dos resultados. \n",
    "\n",
    "Com base nas regras definidas anteriormente, podemos inferir que uma distância com valor 9 é considerada muito longe. Para a variável linguística ângulo foi inferido que o valor de -40 graus é considerado bastante negativo. Portanto iremos usar estes dois valores de inputs."
   ]
  },
  {
   "cell_type": "code",
   "execution_count": 317,
   "id": "84cfaebf",
   "metadata": {},
   "outputs": [
    {
     "data": {
      "text/plain": [
       "3.0277777777777786"
      ]
     },
     "execution_count": 317,
     "metadata": {},
     "output_type": "execute_result"
    }
   ],
   "source": [
    "control.input['angle'] = -40\n",
    "control.input['distance'] = 9\n",
    "\n",
    "control.compute()\n",
    "\n",
    "control.output['power'] * 100"
   ]
  },
  {
   "cell_type": "markdown",
   "id": "6ead25a1",
   "metadata": {},
   "source": [
    "## Discutindo resultado\n",
    "\n",
    "Neste exemplo tivemos um resultado obtido de 3% de potência. Isso corresponde a potencia baixa. Nossos inputs, comentados anteriormente, claramente ativam a seguinte regra:\n",
    "\n",
    "**Se** distância = longe **ou** ângulo = negativo **Então** potência = baixa\n",
    "\n",
    "Isto pois nossa distância com valor 9 é considerada longe e o ângulo no valor -40 graus é negativo, satisfazendo assim esta regra. Nosso resultado corresponde a uma potencia baixa o que é coerente com a regra ativada e com os valores de entrada fornecidos.\n",
    "\n",
    "Portanto, podemos concluir que o resultado obtido é consistente e lógico para o sistema fuzzy criado."
   ]
  },
  {
   "cell_type": "code",
   "execution_count": null,
   "id": "236dec05",
   "metadata": {},
   "outputs": [],
   "source": []
  }
 ],
 "metadata": {
  "kernelspec": {
   "display_name": "Python 3 (ipykernel)",
   "language": "python",
   "name": "python3"
  },
  "language_info": {
   "codemirror_mode": {
    "name": "ipython",
    "version": 3
   },
   "file_extension": ".py",
   "mimetype": "text/x-python",
   "name": "python",
   "nbconvert_exporter": "python",
   "pygments_lexer": "ipython3",
   "version": "3.9.6"
  }
 },
 "nbformat": 4,
 "nbformat_minor": 5
}
